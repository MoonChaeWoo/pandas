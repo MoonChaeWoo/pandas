{
 "cells": [
  {
   "cell_type": "markdown",
   "metadata": {},
   "source": [
    "# 시리즈 만들기"
   ]
  },
  {
   "cell_type": "code",
   "execution_count": 20,
   "metadata": {},
   "outputs": [
    {
     "name": "stdout",
     "output_type": "stream",
     "text": [
      "0         Wes McKinney\n",
      "1    Creator of Pandas\n",
      "dtype: object\n",
      "------------------------------\n",
      "Person         Wes McKinney\n",
      "Who       Creator of Pandas\n",
      "dtype: object\n",
      "<class 'pandas.core.series.Series'>\n"
     ]
    }
   ],
   "source": [
    "import pandas as pd\n",
    "s = pd.Series(['Wes McKinney', 'Creator of Pandas'])\n",
    "print(s)\n",
    "print('-'*30)\n",
    "s = pd.Series(['Wes McKinney', 'Creator of Pandas'], index=['Person', 'Who'])\n",
    "print(s)\n",
    "print(type(s))"
   ]
  },
  {
   "cell_type": "markdown",
   "metadata": {},
   "source": [
    "# 데이터프레임 만들기"
   ]
  },
  {
   "cell_type": "code",
   "execution_count": 9,
   "metadata": {},
   "outputs": [
    {
     "name": "stdout",
     "output_type": "stream",
     "text": [
      "                Name    Occupation        Born        Died  Age\n",
      "0  Rosaline Franklin       chemist  1920-07-25  1958-04-16   37\n",
      "1     William Gosset  Statistician  1876-06-06  1937-10-16   68\n",
      "------------------------------------------------------------\n",
      "                     Occupation        Born  Age        Died\n",
      "Rosaline Franklin       chemist  1920-07-25   37  1958-04-16\n",
      "William Gosset     Statistician  1876-06-06   68  1937-10-16\n"
     ]
    }
   ],
   "source": [
    "scientists = pd.DataFrame({\n",
    "    'Name' : ['Rosaline Franklin', 'William Gosset'],\n",
    "    'Occupation' : ['chemist', 'Statistician'],\n",
    "    'Born' : ['1920-07-25', '1876-06-06'],\n",
    "    'Died' : ['1958-04-16', '1937-10-16'],\n",
    "    'Age' : [37, 68]\n",
    "})\n",
    "print(scientists)\n",
    "print('-'*60)\n",
    "scientists = pd.DataFrame({\n",
    "    'Name' : ['Rosaline Franklin', 'William Gosset'],\n",
    "    'Occupation' : ['chemist', 'Statistician'],\n",
    "    'Born' : ['1920-07-25', '1876-06-06'],\n",
    "    'Died' : ['1958-04-16', '1937-10-16'],\n",
    "    'Age' : [37, 68]\n",
    "},\n",
    "index = ['Rosaline Franklin', 'William Gosset'],\n",
    "columns = ['Occupation', 'Born', 'Age', 'Died'])\n",
    "print(scientists)"
   ]
  },
  {
   "cell_type": "markdown",
   "metadata": {},
   "source": [
    "# 데이터 프레임은 데이터의 순서를 보장하지 않는다.\n",
    "## 순서가 보장된 딕셔너리를 전달하려면 \"OrderedDict\"를 사용해야 한다."
   ]
  },
  {
   "cell_type": "code",
   "execution_count": 11,
   "metadata": {},
   "outputs": [
    {
     "name": "stdout",
     "output_type": "stream",
     "text": [
      "                Name    Occupation        Born        Died  Age\n",
      "0  Rosaline Franklin       chemist  1920-07-25  1958-04-16   37\n",
      "1     William Gosset  Statistician  1876-06-06  1937-10-16   68\n"
     ]
    }
   ],
   "source": [
    "from collections import OrderedDict\n",
    "\n",
    "scientists = pd.DataFrame(OrderedDict([\n",
    "    ('Name' , ['Rosaline Franklin', 'William Gosset']),\n",
    "    ('Occupation' , ['chemist', 'Statistician']),\n",
    "    ('Born' , ['1920-07-25', '1876-06-06']),\n",
    "    ('Died' , ['1958-04-16', '1937-10-16']),\n",
    "    ('Age' , [37, 68])\n",
    "])\n",
    ")\n",
    "print(scientists)"
   ]
  },
  {
   "cell_type": "markdown",
   "metadata": {},
   "source": [
    "# 데이터프레임에서 시리즈 선택하기"
   ]
  },
  {
   "cell_type": "code",
   "execution_count": 19,
   "metadata": {},
   "outputs": [
    {
     "name": "stdout",
     "output_type": "stream",
     "text": [
      "                     Occupation        Born  Age        Died\n",
      "Rosaline Franklin       chemist  1920-07-25   37  1958-04-16\n",
      "William Gosset     Statistician  1876-06-06   68  1937-10-16\n",
      "------------------------------------------------------------\n",
      "Rosaline Franklin    1920-07-25\n",
      "William Gosset       1876-06-06\n",
      "Name: Born, dtype: object\n",
      "------------------------------------------------------------\n",
      "Occupation    Statistician\n",
      "Born            1876-06-06\n",
      "Age                     68\n",
      "Died            1937-10-16\n",
      "Name: William Gosset, dtype: object\n",
      "<class 'pandas.core.series.Series'>\n",
      "------------------------------------------------------------\n",
      "Occupation    Statistician\n",
      "Born            1876-06-06\n",
      "Age                     68\n",
      "Died            1937-10-16\n",
      "Name: William Gosset, dtype: object\n",
      "<class 'pandas.core.series.Series'>\n"
     ]
    }
   ],
   "source": [
    "scientists = pd.DataFrame(\n",
    "    data = {\n",
    "    'Name' : ['Rosaline Franklin', 'William Gosset'],\n",
    "    'Occupation' : ['chemist', 'Statistician'],\n",
    "    'Born' : ['1920-07-25', '1876-06-06'],\n",
    "    'Died' : ['1958-04-16', '1937-10-16'],\n",
    "    'Age' : [37, 68]\n",
    "},\n",
    "index = ['Rosaline Franklin', 'William Gosset'],\n",
    "columns = ['Occupation', 'Born', 'Age', 'Died']\n",
    ")\n",
    "print(scientists)\n",
    "print('-'*60)\n",
    "print(scientists['Born'])\n",
    "print('-'*60)\n",
    "print(scientists.loc['William Gosset'])\n",
    "print(type(scientists.loc['William Gosset']))\n",
    "print('-'*60)\n",
    "print(scientists.iloc[1])\n",
    "print(type(scientists.iloc[1]))"
   ]
  },
  {
   "cell_type": "markdown",
   "metadata": {},
   "source": [
    "# index, values, keys 사용하기"
   ]
  },
  {
   "cell_type": "code",
   "execution_count": 25,
   "metadata": {},
   "outputs": [
    {
     "name": "stdout",
     "output_type": "stream",
     "text": [
      "Index(['Occupation', 'Born', 'Age', 'Died'], dtype='object')\n",
      "['Statistician' '1876-06-06' 68 '1937-10-16']\n",
      "Index(['Occupation', 'Born', 'Age', 'Died'], dtype='object')\n",
      "Occupation\n",
      "Occupation\n"
     ]
    }
   ],
   "source": [
    "first_row = scientists.loc['William Gosset']\n",
    "print(first_row.index)\n",
    "print(first_row.values)\n",
    "print(first_row.keys())\n",
    "print(first_row.index[0])\n",
    "print(first_row.keys()[0])"
   ]
  },
  {
   "cell_type": "markdown",
   "metadata": {},
   "source": [
    "# 시리즈의 mean, min, max, std 메서드 사용하기"
   ]
  },
  {
   "cell_type": "code",
   "execution_count": 32,
   "metadata": {},
   "outputs": [
    {
     "name": "stdout",
     "output_type": "stream",
     "text": [
      "Index(['Occupation', 'Born', 'Age', 'Died'], dtype='object')\n",
      "Index(['Rosaline Franklin', 'William Gosset'], dtype='object')\n",
      "Rosaline Franklin    37\n",
      "William Gosset       68\n",
      "Name: Age, dtype: int64\n",
      "------------------------------------------------------------\n",
      "52.5\n",
      "------------------------------------------------------------\n",
      "37\n",
      "------------------------------------------------------------\n",
      "68\n",
      "------------------------------------------------------------\n",
      "21.920310216782973\n"
     ]
    }
   ],
   "source": [
    "print(scientists.columns)\n",
    "print(scientists.index)\n",
    "ages = scientists['Age']\n",
    "print(ages)\n",
    "print('-'*60)\n",
    "print(ages.mean())\n",
    "print('-'*60)\n",
    "print(ages.min())\n",
    "print('-'*60)\n",
    "print(ages.max())\n",
    "print('-'*60)\n",
    "print(ages.std())"
   ]
  },
  {
   "cell_type": "markdown",
   "metadata": {},
   "source": [
    "# 시리즈와 불린 추출 사용하기"
   ]
  },
  {
   "cell_type": "code",
   "execution_count": 43,
   "metadata": {},
   "outputs": [
    {
     "name": "stdout",
     "output_type": "stream",
     "text": [
      "(8, 5)\n",
      "                   Name        Born        Died  Age          Occupation\n",
      "0     Rosaline Franklin  1920-07-25  1958-04-16   37             Chemist\n",
      "1        William Gosset  1876-06-13  1937-10-16   61        Statistician\n",
      "2  Florence Nightingale  1820-05-12  1910-08-13   90               Nurse\n",
      "3           Marie Curie  1867-11-07  1934-07-04   66             Chemist\n",
      "4         Rachel Carson  1907-05-27  1964-04-14   56           Biologist\n",
      "5             John Snow  1813-03-15  1858-06-16   45           Physician\n",
      "6           Alan Turing  1912-06-23  1954-06-07   41  Computer Scientist\n",
      "7          Johann Gauss  1777-04-30  1855-02-23   77       Mathematician\n",
      "평균나이는 59.125 살 입니다.\n",
      "최대나이는 90 살 입니다.\n",
      "최소나이는 37 살 입니다.\n"
     ]
    }
   ],
   "source": [
    "scientists = pd.read_csv('../data/scientists.csv')\n",
    "print(scientists.shape)\n",
    "print(scientists)\n",
    "ages = scientists['Age']\n",
    "print('평균나이는',ages.mean(),'살 입니다.')\n",
    "print('최대나이는',ages.max(),'살 입니다.')\n",
    "print('최소나이는',ages.min(),'살 입니다.')"
   ]
  },
  {
   "cell_type": "markdown",
   "metadata": {},
   "source": [
    "# 불린 추출을 사용하는 법\n",
    "### 평균 나이보다 많은 사람의 데이터를 추출할 때 "
   ]
  },
  {
   "cell_type": "code",
   "execution_count": 47,
   "metadata": {},
   "outputs": [
    {
     "name": "stdout",
     "output_type": "stream",
     "text": [
      "0    37\n",
      "1    61\n",
      "2    90\n",
      "3    66\n",
      "4    56\n",
      "5    45\n",
      "6    41\n",
      "7    77\n",
      "Name: Age, dtype: int64\n",
      "------------------------------------------------------------\n",
      "1    61\n",
      "2    90\n",
      "3    66\n",
      "7    77\n",
      "Name: Age, dtype: int64\n",
      "------------------------------------------------------------\n",
      "0    False\n",
      "1     True\n",
      "2     True\n",
      "3     True\n",
      "4    False\n",
      "5    False\n",
      "6    False\n",
      "7     True\n",
      "Name: Age, dtype: bool\n"
     ]
    }
   ],
   "source": [
    "print(ages)\n",
    "print('-'*60)\n",
    "print(ages[ages > ages.mean()])\n",
    "print('-'*60)\n",
    "print(ages > ages.mean())"
   ]
  },
  {
   "cell_type": "markdown",
   "metadata": {},
   "source": [
    "## 즉 불린 추출은 리스트에 boolean값을 담아 index에 적용하면 원하는 곳만 나오게 할 수 있다."
   ]
  },
  {
   "cell_type": "code",
   "execution_count": 50,
   "metadata": {},
   "outputs": [
    {
     "name": "stdout",
     "output_type": "stream",
     "text": [
      "0    37\n",
      "1    61\n",
      "3    66\n",
      "7    77\n",
      "Name: Age, dtype: int64\n"
     ]
    }
   ],
   "source": [
    "manual_bool = [True,True,False,True,False,False,False,True]\n",
    "print(ages[manual_bool])"
   ]
  },
  {
   "cell_type": "markdown",
   "metadata": {},
   "source": [
    "# 시리즈와 브로드캐스팅"
   ]
  },
  {
   "cell_type": "markdown",
   "metadata": {},
   "source": [
    "- 모든 데이터에 대해 한 번에 연산하는 것을 브로드 캐스팅이라고 한다.\n",
    "- 시리즈 처럼 여러 개의 값을 가진 데이터를 \"벡터\"라고 하고 단순 크기를 나타내는 데이터를 \"스칼라\"라고 한다."
   ]
  },
  {
   "cell_type": "markdown",
   "metadata": {},
   "source": [
    "### 예시로 같은 길이의 벡터로 더하기 곱하기 연산을 수행하고 결과값으로 같은 길이의 벡터가 출력된다."
   ]
  },
  {
   "cell_type": "code",
   "execution_count": 51,
   "metadata": {},
   "outputs": [
    {
     "name": "stdout",
     "output_type": "stream",
     "text": [
      "0     74\n",
      "1    122\n",
      "2    180\n",
      "3    132\n",
      "4    112\n",
      "5     90\n",
      "6     82\n",
      "7    154\n",
      "Name: Age, dtype: int64\n"
     ]
    }
   ],
   "source": [
    "print(ages + ages)"
   ]
  },
  {
   "cell_type": "code",
   "execution_count": 53,
   "metadata": {},
   "outputs": [
    {
     "name": "stdout",
     "output_type": "stream",
     "text": [
      "0    1369\n",
      "1    3721\n",
      "2    8100\n",
      "3    4356\n",
      "4    3136\n",
      "5    2025\n",
      "6    1681\n",
      "7    5929\n",
      "Name: Age, dtype: int64\n"
     ]
    }
   ],
   "source": [
    "print(ages * ages)"
   ]
  },
  {
   "cell_type": "markdown",
   "metadata": {},
   "source": [
    "### 벡터에 스칼라를 연산하면 벡터의 모든 값에 스칼라가 적용되여 브로드캐스팅된다."
   ]
  },
  {
   "cell_type": "code",
   "execution_count": 55,
   "metadata": {},
   "outputs": [
    {
     "name": "stdout",
     "output_type": "stream",
     "text": [
      "0    37\n",
      "1    61\n",
      "2    90\n",
      "3    66\n",
      "4    56\n",
      "5    45\n",
      "6    41\n",
      "7    77\n",
      "Name: Age, dtype: int64\n",
      "------------------------------------------------------------\n",
      "0    3700\n",
      "1    6100\n",
      "2    9000\n",
      "3    6600\n",
      "4    5600\n",
      "5    4500\n",
      "6    4100\n",
      "7    7700\n",
      "Name: Age, dtype: int64\n"
     ]
    }
   ],
   "source": [
    "print(ages)\n",
    "print('-'*60)\n",
    "print(ages * 100)"
   ]
  },
  {
   "cell_type": "code",
   "execution_count": 67,
   "metadata": {},
   "outputs": [
    {
     "name": "stdout",
     "output_type": "stream",
     "text": [
      "a      1\n",
      "b    100\n",
      "dtype: int64\n",
      "------------------------------------------------------------\n",
      "a      1\n",
      "b    100\n",
      "dtype: int64\n",
      "------------------------------------------------------------------------------------------\n",
      "          b    c    a\n",
      "first   fed  123  abc\n",
      "second  cba  456  def\n"
     ]
    }
   ],
   "source": [
    "ss = pd.Series([1, 100], index=['a', 'b'])\n",
    "print(ss)\n",
    "print('-'*60)\n",
    "ss = pd.Series({'a' : 1, 'b' : 100})\n",
    "print(ss)\n",
    "print('-'*90)\n",
    "ss = pd.DataFrame(\n",
    "    data = {\n",
    "        'a' : ['abc', 'def'],\n",
    "        'b' : ['fed', 'cba'],\n",
    "        'c' : ['123', '456']\n",
    "    },\n",
    "    index = ['first', 'second'],\n",
    "    columns = ['b', 'c', 'a']\n",
    ")\n",
    "print(ss)"
   ]
  },
  {
   "cell_type": "markdown",
   "metadata": {},
   "source": [
    "### 길이가 서로 다른 벡터를 연산하기\n",
    "- 시리즈와 시리즈를 연산하는 경우 같은 인덱스의 값만 계산한다.\n",
    "- 데이터 개수가 2개인 시리즈와 8인 시리즈를 더하는 예시 (아래)\n",
    "- 결과값을 살펴보면 인덱스가 일치한 0, 1만 계산한 걸 알 수 있다.\n",
    "- 나머지 인덱스 (2~7)은 계산할 수 없기 때문에 누락값(NaN)으로 처리한다."
   ]
  },
  {
   "cell_type": "code",
   "execution_count": 75,
   "metadata": {},
   "outputs": [
    {
     "name": "stdout",
     "output_type": "stream",
     "text": [
      "0      1\n",
      "1    100\n",
      "dtype: int64\n",
      "------------------------------------------------------------\n",
      "0    37\n",
      "1    61\n",
      "2    90\n",
      "3    66\n",
      "4    56\n",
      "5    45\n",
      "6    41\n",
      "7    77\n",
      "Name: Age, dtype: int64\n",
      "------------------------------------------------------------\n",
      "0     38.0\n",
      "1    161.0\n",
      "2      NaN\n",
      "3      NaN\n",
      "4      NaN\n",
      "5      NaN\n",
      "6      NaN\n",
      "7      NaN\n",
      "dtype: float64\n"
     ]
    }
   ],
   "source": [
    "print(pd.Series([1,100]))\n",
    "print('-'*60)\n",
    "print(ages)\n",
    "print('-'*60)\n",
    "print(ages + pd.Series([1,100]))"
   ]
  },
  {
   "cell_type": "markdown",
   "metadata": {},
   "source": [
    "# sort_index를 사용하여 인덱스를 역순으로 정렬 할 수 있다.\n",
    "## 이때 ascending 인자로 False를 전달하여 인덱스 연순으로 데이터를 정렬한다."
   ]
  },
  {
   "cell_type": "code",
   "execution_count": 79,
   "metadata": {},
   "outputs": [
    {
     "name": "stdout",
     "output_type": "stream",
     "text": [
      "0    37\n",
      "1    61\n",
      "2    90\n",
      "3    66\n",
      "4    56\n",
      "5    45\n",
      "6    41\n",
      "7    77\n",
      "Name: Age, dtype: int64\n",
      "------------------------------------------------------------\n",
      "7    77\n",
      "6    41\n",
      "5    45\n",
      "4    56\n",
      "3    66\n",
      "2    90\n",
      "1    61\n",
      "0    37\n",
      "Name: Age, dtype: int64\n",
      "------------------------------\n",
      "0     74\n",
      "1    122\n",
      "2    180\n",
      "3    132\n",
      "4    112\n",
      "5     90\n",
      "6     82\n",
      "7    154\n",
      "Name: Age, dtype: int64\n",
      "0     74\n",
      "1    122\n",
      "2    180\n",
      "3    132\n",
      "4    112\n",
      "5     90\n",
      "6     82\n",
      "7    154\n",
      "Name: Age, dtype: int64\n"
     ]
    }
   ],
   "source": [
    "print(ages)\n",
    "print('-'*60)\n",
    "reverse_age = ages.sort_index(ascending=False)\n",
    "print(reverse_age)\n",
    "print('-'*30)\n",
    "print(ages * 2)\n",
    "print(ages + reverse_age)"
   ]
  },
  {
   "cell_type": "markdown",
   "metadata": {},
   "source": [
    "### ages * 2와 ages + reverse_ages의 값은 같다. 이유는 같은 인덱스 끼리 합치기 때문이다."
   ]
  },
  {
   "cell_type": "markdown",
   "metadata": {},
   "source": [
    "# 데이터프레임과 불린 추출"
   ]
  },
  {
   "cell_type": "code",
   "execution_count": 83,
   "metadata": {},
   "outputs": [
    {
     "name": "stdout",
     "output_type": "stream",
     "text": [
      "                   Name        Born        Died  Age          Occupation\n",
      "0     Rosaline Franklin  1920-07-25  1958-04-16   37             Chemist\n",
      "1        William Gosset  1876-06-13  1937-10-16   61        Statistician\n",
      "2  Florence Nightingale  1820-05-12  1910-08-13   90               Nurse\n",
      "3           Marie Curie  1867-11-07  1934-07-04   66             Chemist\n",
      "4         Rachel Carson  1907-05-27  1964-04-14   56           Biologist\n",
      "5             John Snow  1813-03-15  1858-06-16   45           Physician\n",
      "6           Alan Turing  1912-06-23  1954-06-07   41  Computer Scientist\n",
      "7          Johann Gauss  1777-04-30  1855-02-23   77       Mathematician\n",
      "(8, 5)\n",
      "Index(['Name', 'Born', 'Died', 'Age', 'Occupation'], dtype='object')\n",
      "RangeIndex(start=0, stop=8, step=1)\n"
     ]
    }
   ],
   "source": [
    "print(scientists)\n",
    "print(scientists.shape)\n",
    "print(scientists.columns)\n",
    "print(scientists.index)"
   ]
  },
  {
   "cell_type": "markdown",
   "metadata": {},
   "source": [
    "### 데이터프레임도 불린 추출이 가능하다.\n",
    "- 데이터프레임의 Age 열에서 Age열의 평균보다 높은 행만 출력합니다."
   ]
  },
  {
   "cell_type": "code",
   "execution_count": 85,
   "metadata": {},
   "outputs": [
    {
     "name": "stdout",
     "output_type": "stream",
     "text": [
      "                   Name        Born        Died  Age     Occupation\n",
      "1        William Gosset  1876-06-13  1937-10-16   61   Statistician\n",
      "2  Florence Nightingale  1820-05-12  1910-08-13   90          Nurse\n",
      "3           Marie Curie  1867-11-07  1934-07-04   66        Chemist\n",
      "7          Johann Gauss  1777-04-30  1855-02-23   77  Mathematician\n"
     ]
    }
   ],
   "source": [
    "print(scientists[scientists['Age'] > scientists['Age'].mean()])"
   ]
  },
  {
   "cell_type": "markdown",
   "metadata": {},
   "source": [
    "### 시리즈에 리스트로 참, 거짓을 전달하여 데이터를 추출했던 것 처럼 데이터 프레임도 가능하다.\n",
    "- 참, 거짓을 담은 리스트를 bool 벡터라고 부른다.\n",
    "- 만약 bool 벡터의 길이가 데이터프레임의 행 길이보다 짧으면 bool벡터의 길이 만틈만 연산한다.\n",
    "- 데이터 프레임의 loc 속성에 길이가 4인 bool 벡터를 전달한 것이다."
   ]
  },
  {
   "cell_type": "code",
   "execution_count": 110,
   "metadata": {},
   "outputs": [
    {
     "name": "stdout",
     "output_type": "stream",
     "text": [
      "                   Name        Born        Died  Age          Occupation\n",
      "0     Rosaline Franklin  1920-07-25  1958-04-16   37             Chemist\n",
      "1        William Gosset  1876-06-13  1937-10-16   61        Statistician\n",
      "2  Florence Nightingale  1820-05-12  1910-08-13   90               Nurse\n",
      "4         Rachel Carson  1907-05-27  1964-04-14   56           Biologist\n",
      "6           Alan Turing  1912-06-23  1954-06-07   41  Computer Scientist\n",
      "7          Johann Gauss  1777-04-30  1855-02-23   77       Mathematician\n"
     ]
    }
   ],
   "source": [
    "print(scientists.loc[[True,True,True,False,True,False,True,True]])"
   ]
  },
  {
   "cell_type": "markdown",
   "metadata": {},
   "source": [
    "# 데이터프레임과 브로드캐스팅"
   ]
  },
  {
   "cell_type": "code",
   "execution_count": 112,
   "metadata": {},
   "outputs": [
    {
     "name": "stdout",
     "output_type": "stream",
     "text": [
      "                                                Name  \\\n",
      "0  Rosaline FranklinRosaline FranklinRosaline Fra...   \n",
      "1         William GossetWilliam GossetWilliam Gosset   \n",
      "2  Florence NightingaleFlorence NightingaleFloren...   \n",
      "3                  Marie CurieMarie CurieMarie Curie   \n",
      "4            Rachel CarsonRachel CarsonRachel Carson   \n",
      "5                        John SnowJohn SnowJohn Snow   \n",
      "6                  Alan TuringAlan TuringAlan Turing   \n",
      "7               Johann GaussJohann GaussJohann Gauss   \n",
      "\n",
      "                             Born                            Died  Age  \\\n",
      "0  1920-07-251920-07-251920-07-25  1958-04-161958-04-161958-04-16  111   \n",
      "1  1876-06-131876-06-131876-06-13  1937-10-161937-10-161937-10-16  183   \n",
      "2  1820-05-121820-05-121820-05-12  1910-08-131910-08-131910-08-13  270   \n",
      "3  1867-11-071867-11-071867-11-07  1934-07-041934-07-041934-07-04  198   \n",
      "4  1907-05-271907-05-271907-05-27  1964-04-141964-04-141964-04-14  168   \n",
      "5  1813-03-151813-03-151813-03-15  1858-06-161858-06-161858-06-16  135   \n",
      "6  1912-06-231912-06-231912-06-23  1954-06-071954-06-071954-06-07  123   \n",
      "7  1777-04-301777-04-301777-04-30  1855-02-231855-02-231855-02-23  231   \n",
      "\n",
      "                                          Occupation  \n",
      "0                              ChemistChemistChemist  \n",
      "1               StatisticianStatisticianStatistician  \n",
      "2                                    NurseNurseNurse  \n",
      "3                              ChemistChemistChemist  \n",
      "4                        BiologistBiologistBiologist  \n",
      "5                        PhysicianPhysicianPhysician  \n",
      "6  Computer ScientistComputer ScientistComputer S...  \n",
      "7            MathematicianMathematicianMathematician  \n"
     ]
    }
   ],
   "source": [
    "print(scientists * 3)"
   ]
  },
  {
   "cell_type": "markdown",
   "metadata": {},
   "source": [
    "### 데이터프레임도 마찬가지로 스칼라를 이용하여 곱하기를 하면 브로드캐스트를 하여 문자열이 2배 3배가 된다."
   ]
  },
  {
   "cell_type": "markdown",
   "metadata": {},
   "source": [
    "# 열의 자료형 바꾸기와 새로운 열 추가하기"
   ]
  },
  {
   "cell_type": "code",
   "execution_count": 116,
   "metadata": {},
   "outputs": [
    {
     "name": "stdout",
     "output_type": "stream",
     "text": [
      "Index(['Name', 'Born', 'Died', 'Age', 'Occupation'], dtype='object')\n",
      "object\n",
      "object\n"
     ]
    }
   ],
   "source": [
    "print(scientists.columns)\n",
    "# 각각의 자료형은 문자열(오브젝트)이다.\n",
    "print(scientists['Born'].dtype)\n",
    "print(scientists['Died'].dtype)"
   ]
  },
  {
   "cell_type": "code",
   "execution_count": 118,
   "metadata": {},
   "outputs": [
    {
     "name": "stdout",
     "output_type": "stream",
     "text": [
      "0    1920-07-25\n",
      "1    1876-06-13\n",
      "2    1820-05-12\n",
      "3    1867-11-07\n",
      "4    1907-05-27\n",
      "5    1813-03-15\n",
      "6    1912-06-23\n",
      "7    1777-04-30\n",
      "Name: Born, dtype: object\n",
      "------------------------------------------------------------\n",
      "0    1958-04-16\n",
      "1    1937-10-16\n",
      "2    1910-08-13\n",
      "3    1934-07-04\n",
      "4    1964-04-14\n",
      "5    1858-06-16\n",
      "6    1954-06-07\n",
      "7    1855-02-23\n",
      "Name: Died, dtype: object\n"
     ]
    }
   ],
   "source": [
    "print(scientists['Born'])\n",
    "print('-'*60)\n",
    "print(scientists['Died'])"
   ]
  },
  {
   "cell_type": "markdown",
   "metadata": {},
   "source": [
    "### 날짜를 문자열로 저장한 데이터는 시간 관련 작업을 할 수 있도록 datetime 자료형으로 바꾸는게 좋다.\n",
    "- 다음예시로 Born died 열의 자료형을 datetime이라는 자료형으로 바꾼다\n",
    "- formate 속성을 '%Y-%m-%d'로 지정하여 날짜 형식을 지정한다."
   ]
  },
  {
   "cell_type": "code",
   "execution_count": 124,
   "metadata": {},
   "outputs": [
    {
     "name": "stdout",
     "output_type": "stream",
     "text": [
      "0   1920-07-25\n",
      "1   1876-06-13\n",
      "2   1820-05-12\n",
      "3   1867-11-07\n",
      "4   1907-05-27\n",
      "5   1813-03-15\n",
      "6   1912-06-23\n",
      "7   1777-04-30\n",
      "Name: Born, dtype: datetime64[ns]\n",
      "<class 'pandas.core.series.Series'>\n",
      "datetime64[ns]\n",
      "<class 'pandas.core.series.Series'>\n",
      "RangeIndex: 8 entries, 0 to 7\n",
      "Series name: Born\n",
      "Non-Null Count  Dtype         \n",
      "--------------  -----         \n",
      "8 non-null      datetime64[ns]\n",
      "dtypes: datetime64[ns](1)\n",
      "memory usage: 192.0 bytes\n",
      "None\n"
     ]
    }
   ],
   "source": [
    "born_datetime = pd.to_datetime(scientists['Born'], format='%Y-%m-%d')\n",
    "print(born_datetime)\n",
    "print(type(born_datetime))\n",
    "print(born_datetime.dtype)\n",
    "print(born_datetime.info())"
   ]
  },
  {
   "cell_type": "code",
   "execution_count": 125,
   "metadata": {},
   "outputs": [
    {
     "name": "stdout",
     "output_type": "stream",
     "text": [
      "0   1958-04-16\n",
      "1   1937-10-16\n",
      "2   1910-08-13\n",
      "3   1934-07-04\n",
      "4   1964-04-14\n",
      "5   1858-06-16\n",
      "6   1954-06-07\n",
      "7   1855-02-23\n",
      "Name: Died, dtype: datetime64[ns]\n",
      "<class 'pandas.core.series.Series'>\n",
      "datetime64[ns]\n",
      "<class 'pandas.core.series.Series'>\n",
      "RangeIndex: 8 entries, 0 to 7\n",
      "Series name: Died\n",
      "Non-Null Count  Dtype         \n",
      "--------------  -----         \n",
      "8 non-null      datetime64[ns]\n",
      "dtypes: datetime64[ns](1)\n",
      "memory usage: 192.0 bytes\n",
      "None\n"
     ]
    }
   ],
   "source": [
    "died_datetime = pd.to_datetime(scientists['Died'], format='%Y-%m-%d')\n",
    "print(died_datetime)\n",
    "print(type(died_datetime))\n",
    "print(died_datetime.dtype)\n",
    "print(died_datetime.info())"
   ]
  },
  {
   "cell_type": "code",
   "execution_count": 134,
   "metadata": {},
   "outputs": [
    {
     "name": "stdout",
     "output_type": "stream",
     "text": [
      "추가 전 : (8, 7)\n",
      "추가 후 : (8, 7)\n",
      "------------------------------------------------------------\n",
      "                   Name        Born        Died  Age          Occupation  \\\n",
      "0     Rosaline Franklin  1920-07-25  1958-04-16   37             Chemist   \n",
      "1        William Gosset  1876-06-13  1937-10-16   61        Statistician   \n",
      "2  Florence Nightingale  1820-05-12  1910-08-13   90               Nurse   \n",
      "3           Marie Curie  1867-11-07  1934-07-04   66             Chemist   \n",
      "4         Rachel Carson  1907-05-27  1964-04-14   56           Biologist   \n",
      "5             John Snow  1813-03-15  1858-06-16   45           Physician   \n",
      "6           Alan Turing  1912-06-23  1954-06-07   41  Computer Scientist   \n",
      "7          Johann Gauss  1777-04-30  1855-02-23   77       Mathematician   \n",
      "\n",
      "     born_at    died_at  \n",
      "0 1920-07-25 1958-04-16  \n",
      "1 1876-06-13 1937-10-16  \n",
      "2 1820-05-12 1910-08-13  \n",
      "3 1867-11-07 1934-07-04  \n",
      "4 1907-05-27 1964-04-14  \n",
      "5 1813-03-15 1858-06-16  \n",
      "6 1912-06-23 1954-06-07  \n",
      "7 1777-04-30 1855-02-23  \n"
     ]
    }
   ],
   "source": [
    "print('추가 전 :',scientists.shape)\n",
    "# 추가 작업\n",
    "scientists['born_at'], scientists['died_at'] = (born_datetime,died_datetime)\n",
    "print('추가 후 :', scientists.shape)\n",
    "print('-'*60)\n",
    "print(scientists)"
   ]
  },
  {
   "cell_type": "code",
   "execution_count": 139,
   "metadata": {},
   "outputs": [
    {
     "name": "stdout",
     "output_type": "stream",
     "text": [
      "                Name        Born        Died  Age    Occupation    born_at  \\\n",
      "0  Rosaline Franklin  1920-07-25  1958-04-16   37       Chemist 1920-07-25   \n",
      "1     William Gosset  1876-06-13  1937-10-16   61  Statistician 1876-06-13   \n",
      "\n",
      "     died_at age_day_at  \n",
      "0 1958-04-16 13779 days  \n",
      "1 1937-10-16 22404 days  \n",
      "                   Name        Born        Died  Age          Occupation  \\\n",
      "0     Rosaline Franklin  1920-07-25  1958-04-16   37             Chemist   \n",
      "1        William Gosset  1876-06-13  1937-10-16   61        Statistician   \n",
      "2  Florence Nightingale  1820-05-12  1910-08-13   90               Nurse   \n",
      "3           Marie Curie  1867-11-07  1934-07-04   66             Chemist   \n",
      "4         Rachel Carson  1907-05-27  1964-04-14   56           Biologist   \n",
      "5             John Snow  1813-03-15  1858-06-16   45           Physician   \n",
      "6           Alan Turing  1912-06-23  1954-06-07   41  Computer Scientist   \n",
      "7          Johann Gauss  1777-04-30  1855-02-23   77       Mathematician   \n",
      "\n",
      "     born_at    died_at age_day_at  \n",
      "0 1920-07-25 1958-04-16 13779 days  \n",
      "1 1876-06-13 1937-10-16 22404 days  \n",
      "2 1820-05-12 1910-08-13 32964 days  \n",
      "3 1867-11-07 1934-07-04 24345 days  \n",
      "4 1907-05-27 1964-04-14 20777 days  \n",
      "5 1813-03-15 1858-06-16 16529 days  \n",
      "6 1912-06-23 1954-06-07 15324 days  \n",
      "7 1777-04-30 1855-02-23 28422 days  \n"
     ]
    }
   ],
   "source": [
    "print(scientists.head(n=2))\n",
    "scientists['age_day_at'] = (scientists['died_at'] - scientists['born_at'])\n",
    "print(scientists)"
   ]
  },
  {
   "cell_type": "markdown",
   "metadata": {},
   "source": [
    "# 시리즈, 데이터프레임의 데이터 섞어보기"
   ]
  },
  {
   "cell_type": "code",
   "execution_count": 141,
   "metadata": {},
   "outputs": [
    {
     "name": "stdout",
     "output_type": "stream",
     "text": [
      "0    37\n",
      "1    61\n",
      "2    90\n",
      "3    66\n",
      "4    56\n",
      "5    45\n",
      "6    41\n",
      "7    77\n",
      "Name: Age, dtype: int64\n"
     ]
    }
   ],
   "source": [
    "print(scientists['Age'])"
   ]
  },
  {
   "cell_type": "markdown",
   "metadata": {},
   "source": [
    "### Age 열의 데이터를 섞으려면 random 라이브러리를 불러야한다.\n",
    "- random 라이브러리에는 데이터를 섞어주는 shuffle 메서드가 있다.\n",
    "- shuffle 메서드에 Age 열을 전달하여 데이터를 섞는다.\n",
    "- Age 열을 출력해 보면 인덱스 0~7에 해당하는 값이 잘 섞여 있음을 알 수 있다.\n",
    "- seed 메서드는 컴퓨터가 생성하는 난수의 기준값을 정하기 위해 사용한다."
   ]
  },
  {
   "cell_type": "code",
   "execution_count": 145,
   "metadata": {},
   "outputs": [
    {
     "name": "stdout",
     "output_type": "stream",
     "text": [
      "0    77\n",
      "1    41\n",
      "2    56\n",
      "3    61\n",
      "4    45\n",
      "5    90\n",
      "6    37\n",
      "7    66\n",
      "Name: Age, dtype: int64\n",
      "------------------------------------------------------------\n",
      "0    61\n",
      "1    45\n",
      "2    37\n",
      "3    66\n",
      "4    56\n",
      "5    90\n",
      "6    77\n",
      "7    41\n",
      "Name: Age, dtype: int64\n"
     ]
    }
   ],
   "source": [
    "import random\n",
    "print(scientists['Age'])\n",
    "print('-'*60)\n",
    "random.seed(42)\n",
    "random.shuffle(scientists['Age'])\n",
    "print(scientists['Age'])"
   ]
  },
  {
   "cell_type": "markdown",
   "metadata": {},
   "source": [
    "# 데이터프레임의 열 삭제하기 (drop)\n",
    "- 열을 통째로 삭제\n",
    "- 데이터프레임의 drop 메서드를 사용하여 열을 삭제한다.\n",
    "- drop 메서드의 첫 번째  인자에 열 이름을 리스트에 담아 전달하고 두 번째 인자에는 axis=1을 전달하면 Age열을 삭제할 수 있다."
   ]
  },
  {
   "cell_type": "code",
   "execution_count": 149,
   "metadata": {},
   "outputs": [
    {
     "name": "stdout",
     "output_type": "stream",
     "text": [
      "                   Name        Born        Died  Age          Occupation  \\\n",
      "0     Rosaline Franklin  1920-07-25  1958-04-16   61             Chemist   \n",
      "1        William Gosset  1876-06-13  1937-10-16   45        Statistician   \n",
      "2  Florence Nightingale  1820-05-12  1910-08-13   37               Nurse   \n",
      "3           Marie Curie  1867-11-07  1934-07-04   66             Chemist   \n",
      "4         Rachel Carson  1907-05-27  1964-04-14   56           Biologist   \n",
      "5             John Snow  1813-03-15  1858-06-16   90           Physician   \n",
      "6           Alan Turing  1912-06-23  1954-06-07   77  Computer Scientist   \n",
      "7          Johann Gauss  1777-04-30  1855-02-23   41       Mathematician   \n",
      "\n",
      "     born_at    died_at age_day_at  \n",
      "0 1920-07-25 1958-04-16 13779 days  \n",
      "1 1876-06-13 1937-10-16 22404 days  \n",
      "2 1820-05-12 1910-08-13 32964 days  \n",
      "3 1867-11-07 1934-07-04 24345 days  \n",
      "4 1907-05-27 1964-04-14 20777 days  \n",
      "5 1813-03-15 1858-06-16 16529 days  \n",
      "6 1912-06-23 1954-06-07 15324 days  \n",
      "7 1777-04-30 1855-02-23 28422 days  \n",
      "Index(['Name', 'Born', 'Died', 'Occupation', 'born_at', 'died_at',\n",
      "       'age_day_at'],\n",
      "      dtype='object')\n"
     ]
    }
   ],
   "source": [
    "scientists_dropped = scientists.drop(['Age'], axis=1)\n",
    "print(scientists)\n",
    "print(scientists_dropped.columns)\n",
    "# aixs=0(index)은 행을 따라 동작한다. 각 컬럼의 모든 행에 대해서 작용합니다.\n",
    "# aixs=1(columns)은 열을 따라 동작합니다. 각 행의 모든 컬럼에 대해서 작동합니다."
   ]
  },
  {
   "cell_type": "markdown",
   "metadata": {},
   "source": [
    "# 피클 형식으로 저장하기\n",
    "- 판다스는 데이터를 저장하는 다양한 방법을 제공한다.\n",
    "- 가공한 데이터를 피클, CSV, TSV 파일로 저장하고 다시 불러와본다.\n",
    "- 데이터를 오래 보관한다는 뜻으로 피클이라는 이름이 붙여진 것이다."
   ]
  },
  {
   "cell_type": "code",
   "execution_count": 155,
   "metadata": {},
   "outputs": [],
   "source": [
    "names = scientists['Name']\n",
    "names.to_pickle('../output/scientists_names_series.pickle')\n",
    "# 이 땐 꼭 저장할 폴더를 생성해둬야한다."
   ]
  },
  {
   "cell_type": "markdown",
   "metadata": {},
   "source": [
    "# 데이터프레임도 피클로 저장할 수 있다."
   ]
  },
  {
   "cell_type": "code",
   "execution_count": 156,
   "metadata": {},
   "outputs": [],
   "source": [
    "scientists.to_pickle('../output/scientists_df.pickle')"
   ]
  },
  {
   "cell_type": "markdown",
   "metadata": {},
   "source": [
    "## 피클은 바이너리 형태의 오브젝트이기 때문에 저장된 피클 데이터를 편집기와 같은 프로그램으로 열어보면 이상한 문자가 나온다. \n",
    "## 즉 피클 데이터는 반드시 read_pickle 메서드를 읽어 들여야한다."
   ]
  },
  {
   "cell_type": "code",
   "execution_count": 157,
   "metadata": {},
   "outputs": [
    {
     "name": "stdout",
     "output_type": "stream",
     "text": [
      "0       Rosaline Franklin\n",
      "1          William Gosset\n",
      "2    Florence Nightingale\n",
      "3             Marie Curie\n",
      "4           Rachel Carson\n",
      "5               John Snow\n",
      "6             Alan Turing\n",
      "7            Johann Gauss\n",
      "Name: Name, dtype: object\n"
     ]
    }
   ],
   "source": [
    "scientists_names_from_pickle = pd.read_pickle('../output/scientists_names_series.pickle')\n",
    "print(scientists_names_from_pickle)"
   ]
  },
  {
   "cell_type": "code",
   "execution_count": 158,
   "metadata": {},
   "outputs": [
    {
     "name": "stdout",
     "output_type": "stream",
     "text": [
      "                   Name        Born        Died  Age          Occupation  \\\n",
      "0     Rosaline Franklin  1920-07-25  1958-04-16   61             Chemist   \n",
      "1        William Gosset  1876-06-13  1937-10-16   45        Statistician   \n",
      "2  Florence Nightingale  1820-05-12  1910-08-13   37               Nurse   \n",
      "3           Marie Curie  1867-11-07  1934-07-04   66             Chemist   \n",
      "4         Rachel Carson  1907-05-27  1964-04-14   56           Biologist   \n",
      "5             John Snow  1813-03-15  1858-06-16   90           Physician   \n",
      "6           Alan Turing  1912-06-23  1954-06-07   77  Computer Scientist   \n",
      "7          Johann Gauss  1777-04-30  1855-02-23   41       Mathematician   \n",
      "\n",
      "     born_at    died_at age_day_at  \n",
      "0 1920-07-25 1958-04-16 13779 days  \n",
      "1 1876-06-13 1937-10-16 22404 days  \n",
      "2 1820-05-12 1910-08-13 32964 days  \n",
      "3 1867-11-07 1934-07-04 24345 days  \n",
      "4 1907-05-27 1964-04-14 20777 days  \n",
      "5 1813-03-15 1858-06-16 16529 days  \n",
      "6 1912-06-23 1954-06-07 15324 days  \n",
      "7 1777-04-30 1855-02-23 28422 days  \n"
     ]
    }
   ],
   "source": [
    "scientists_from_pickle = pd.read_pickle('../output/scientists_df.pickle')\n",
    "print(scientists_from_pickle)"
   ]
  },
  {
   "cell_type": "code",
   "execution_count": 160,
   "metadata": {},
   "outputs": [],
   "source": [
    "names.to_csv('../output/scientists_names_series.csv')\n",
    "scientists.to_csv('../output/scientists_df.csv')\n",
    "# to_csv로 저장을 하면서 sep = '\\t'을 추가하고 확장자를 .tsv로 저장을 한다.\n",
    "scientists.to_csv('../output/scientists_df.tsv', sep = '\\t')"
   ]
  },
  {
   "cell_type": "markdown",
   "metadata": {},
   "source": [
    "### 시리즈는 엑셀 구조와 맞지 않기 때문에 엑셀 파일로 저장할 수 없다.\n",
    "### 엑셀 파일로 저장할 수 있는 데이터프레임으로 변환해야한다.\n",
    "### xls파일로 저장하려면 xlwt 라이브러리가 필요하다.\n",
    "### xlsx 파일로 저장하려면 openpyxl 라이브러리가 필요하다.\n",
    "### pip install xlwt\n",
    "### pip install openpyxl"
   ]
  },
  {
   "cell_type": "markdown",
   "metadata": {},
   "source": [
    "# CSV 불러오기"
   ]
  },
  {
   "cell_type": "code",
   "execution_count": 166,
   "metadata": {},
   "outputs": [
    {
     "name": "stderr",
     "output_type": "stream",
     "text": [
      "C:\\Users\\admin\\AppData\\Local\\Temp\\ipykernel_17728\\533261942.py:4: FutureWarning: As the xlwt package is no longer maintained, the xlwt engine will be removed in a future version of pandas. This is the only engine in pandas that supports writing in the xls format. Install openpyxl and write to an xlsx file instead. You can set the option io.excel.xls.writer to 'xlwt' to silence this warning. While this option is deprecated and will also raise a warning, it can be globally set and the warning suppressed.\n",
      "  name_df.to_excel('../output/scientists_names_series_df.xls')\n"
     ]
    }
   ],
   "source": [
    "name_df = names.to_frame()\n",
    "\n",
    "import xlwt\n",
    "name_df.to_excel('../output/scientists_names_series_df.xls')\n",
    "\n",
    "import openpyxl\n",
    "name_df.to_excel('../output/scientists_names_series_df.xlsx')"
   ]
  },
  {
   "cell_type": "code",
   "execution_count": 172,
   "metadata": {},
   "outputs": [
    {
     "name": "stdout",
     "output_type": "stream",
     "text": [
      "   Unnamed: 0                  Name\n",
      "0           0     Rosaline Franklin\n",
      "1           1        William Gosset\n",
      "2           2  Florence Nightingale\n",
      "3           3           Marie Curie\n",
      "4           4         Rachel Carson\n",
      "5           5             John Snow\n",
      "6           6           Alan Turing\n",
      "7           7          Johann Gauss\n",
      "<class 'pandas.core.frame.DataFrame'>\n",
      "<class 'pandas.core.frame.DataFrame'>\n",
      "RangeIndex: 8 entries, 0 to 7\n",
      "Data columns (total 2 columns):\n",
      " #   Column      Non-Null Count  Dtype \n",
      "---  ------      --------------  ----- \n",
      " 0   Unnamed: 0  8 non-null      int64 \n",
      " 1   Name        8 non-null      object\n",
      "dtypes: int64(1), object(1)\n",
      "memory usage: 256.0+ bytes\n",
      "None\n"
     ]
    }
   ],
   "source": [
    "excel_file = pd.read_excel('../output/scientists_names_series_df.xls')\n",
    "print(excel_file)\n",
    "print(type(excel_file))\n",
    "print(excel_file.info())"
   ]
  },
  {
   "cell_type": "code",
   "execution_count": 175,
   "metadata": {},
   "outputs": [
    {
     "name": "stdout",
     "output_type": "stream",
     "text": [
      "   Unnamed: 0                  Name\n",
      "0           0     Rosaline Franklin\n",
      "1           1        William Gosset\n",
      "2           2  Florence Nightingale\n",
      "3           3           Marie Curie\n",
      "4           4         Rachel Carson\n",
      "5           5             John Snow\n",
      "6           6           Alan Turing\n",
      "7           7          Johann Gauss\n",
      "<class 'pandas.core.frame.DataFrame'>\n",
      "<class 'pandas.core.frame.DataFrame'>\n",
      "RangeIndex: 8 entries, 0 to 7\n",
      "Data columns (total 2 columns):\n",
      " #   Column      Non-Null Count  Dtype \n",
      "---  ------      --------------  ----- \n",
      " 0   Unnamed: 0  8 non-null      int64 \n",
      " 1   Name        8 non-null      object\n",
      "dtypes: int64(1), object(1)\n",
      "memory usage: 256.0+ bytes\n",
      "None\n"
     ]
    }
   ],
   "source": [
    "excel_file = pd.read_excel('../output/scientists_names_series_df.xlsx', engine = 'openpyxl')\n",
    "print(excel_file)\n",
    "print(type(excel_file))\n",
    "print(excel_file.info())"
   ]
  },
  {
   "cell_type": "code",
   "execution_count": 176,
   "metadata": {},
   "outputs": [
    {
     "name": "stdout",
     "output_type": "stream",
     "text": [
      "   Unnamed: 0                  Name\n",
      "0           0     Rosaline Franklin\n",
      "1           1        William Gosset\n",
      "2           2  Florence Nightingale\n",
      "3           3           Marie Curie\n",
      "4           4         Rachel Carson\n",
      "5           5             John Snow\n",
      "6           6           Alan Turing\n",
      "7           7          Johann Gauss\n",
      "<class 'pandas.core.frame.DataFrame'>\n",
      "<class 'pandas.core.frame.DataFrame'>\n",
      "RangeIndex: 8 entries, 0 to 7\n",
      "Data columns (total 2 columns):\n",
      " #   Column      Non-Null Count  Dtype \n",
      "---  ------      --------------  ----- \n",
      " 0   Unnamed: 0  8 non-null      int64 \n",
      " 1   Name        8 non-null      object\n",
      "dtypes: int64(1), object(1)\n",
      "memory usage: 256.0+ bytes\n",
      "None\n"
     ]
    }
   ],
   "source": [
    "excel_file = pd.read_excel('../output/scientists_names_series_df.xlsx')\n",
    "print(excel_file)\n",
    "print(type(excel_file))\n",
    "print(excel_file.info())"
   ]
  },
  {
   "cell_type": "code",
   "execution_count": 178,
   "metadata": {},
   "outputs": [
    {
     "name": "stdout",
     "output_type": "stream",
     "text": [
      "Index(['Unnamed: 0', 'Name'], dtype='object')\n"
     ]
    }
   ],
   "source": [
    "print(excel_file.columns)"
   ]
  },
  {
   "cell_type": "code",
   "execution_count": 179,
   "metadata": {},
   "outputs": [
    {
     "name": "stdout",
     "output_type": "stream",
     "text": [
      "0       Rosaline Franklin\n",
      "1          William Gosset\n",
      "2    Florence Nightingale\n",
      "3             Marie Curie\n",
      "4           Rachel Carson\n",
      "5               John Snow\n",
      "6             Alan Turing\n",
      "7            Johann Gauss\n",
      "Name: Name, dtype: object\n"
     ]
    }
   ],
   "source": [
    "print(excel_file['Name'])"
   ]
  },
  {
   "cell_type": "code",
   "execution_count": null,
   "metadata": {},
   "outputs": [],
   "source": []
  }
 ],
 "metadata": {
  "kernelspec": {
   "display_name": "Python 3 (ipykernel)",
   "language": "python",
   "name": "python3"
  },
  "language_info": {
   "codemirror_mode": {
    "name": "ipython",
    "version": 3
   },
   "file_extension": ".py",
   "mimetype": "text/x-python",
   "name": "python",
   "nbconvert_exporter": "python",
   "pygments_lexer": "ipython3",
   "version": "3.9.12"
  }
 },
 "nbformat": 4,
 "nbformat_minor": 2
}
