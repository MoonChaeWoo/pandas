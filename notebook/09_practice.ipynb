{
 "cells": [
  {
   "cell_type": "markdown",
   "metadata": {},
   "source": [
    "# 문자열 추출하기"
   ]
  },
  {
   "cell_type": "code",
   "execution_count": 10,
   "metadata": {},
   "outputs": [
    {
     "name": "stdout",
     "output_type": "stream",
     "text": [
      "r\n",
      "hcta\n"
     ]
    }
   ],
   "source": [
    "word = 'grail'\n",
    "sent = 'a scratch'\n",
    "print(word[1])\n",
    "print(sent[-1:-5:-1])"
   ]
  },
  {
   "cell_type": "markdown",
   "metadata": {},
   "source": [
    "# 전체 문자열 추출하기"
   ]
  },
  {
   "cell_type": "code",
   "execution_count": 11,
   "metadata": {},
   "outputs": [
    {
     "name": "stdout",
     "output_type": "stream",
     "text": [
      "grail\n"
     ]
    }
   ],
   "source": [
    "print(word[:])"
   ]
  },
  {
   "cell_type": "markdown",
   "metadata": {},
   "source": [
    "# 왼쪽이나 오른쪽 범위를 지정하지 않고 문자열 추출하기"
   ]
  },
  {
   "cell_type": "code",
   "execution_count": 12,
   "metadata": {},
   "outputs": [
    {
     "name": "stdout",
     "output_type": "stream",
     "text": [
      "gra\n",
      "grail\n"
     ]
    }
   ],
   "source": [
    "print(word[:3])\n",
    "print(word[-5:])"
   ]
  },
  {
   "cell_type": "markdown",
   "metadata": {},
   "source": [
    "# join, splitlines, replace 메서드 실습하기"
   ]
  },
  {
   "cell_type": "code",
   "execution_count": 24,
   "metadata": {
    "scrolled": true
   },
   "outputs": [
    {
     "name": "stdout",
     "output_type": "stream",
     "text": [
      "join\n",
      "40º 46' 52.837 N\n",
      "************************************************************\n",
      "splitlines\n",
      "abc\n",
      "def\n",
      "hij\n",
      "klm\n",
      "nop\n",
      "************************************************************\n",
      "['abc', 'def', 'hij', 'klm', 'nop']\n",
      "************************************************************\n",
      "replace\n",
      "cba\n",
      "def\n",
      "hij\n",
      "klm\n",
      "nop\n"
     ]
    }
   ],
   "source": [
    "print('join')\n",
    "d1= '40º'\n",
    "m1 = \"46'\"\n",
    "s1 = '52.837'\n",
    "u1 = 'N'\n",
    "\n",
    "coords = ' '.join([d1, m1, s1, u1])\n",
    "print(coords)\n",
    "\n",
    "print('*'*60)\n",
    "print('splitlines')\n",
    "multi_str = \"\"\"abc\n",
    "def\n",
    "hij\n",
    "klm\n",
    "nop\"\"\"\n",
    "\n",
    "print(multi_str)\n",
    "print('*'*60)\n",
    "print(multi_str.splitlines())\n",
    "print('*'*60)\n",
    "\n",
    "print('replace')\n",
    "print(multi_str.replace('abc','cba'))"
   ]
  },
  {
   "cell_type": "markdown",
   "metadata": {},
   "source": [
    "# 문자열 포매팅 실습하기\n",
    "- 문자열을 편리하게 출력할 수 있게 해주는 기능이다.\n",
    "- 출력할 문자열의 형식을 지정하거나 변수를 조합하여 출력하는 방법을 말한다."
   ]
  },
  {
   "cell_type": "code",
   "execution_count": 3,
   "metadata": {},
   "outputs": [
    {
     "name": "stdout",
     "output_type": "stream",
     "text": [
      "it's just a flesh wound!\n",
      "************************************************************\n",
      "it's just a test Message!\n"
     ]
    }
   ],
   "source": [
    "var = 'flesh wound'\n",
    "s = \"it's just a {}!\"\n",
    "\n",
    "print(s.format(var))\n",
    "print('*'*60)\n",
    "print(s.format('test Message'))"
   ]
  },
  {
   "cell_type": "markdown",
   "metadata": {},
   "source": [
    "### 플레이스 홀더에는 여러 번 사용해도된다. 여러 단어를 전달할 때는 인덱스 개념을 응용해야한다."
   ]
  },
  {
   "cell_type": "code",
   "execution_count": 7,
   "metadata": {},
   "outputs": [
    {
     "name": "stdout",
     "output_type": "stream",
     "text": [
      "Black Knight : 'tis but a 1111.\n",
      "King Arthur : A 2222? your arm's off!\n"
     ]
    }
   ],
   "source": [
    "s = \"\"\"Black Knight : 'tis but a {0}.\n",
    "King Arthur : A {1}? your arm's off!\"\"\"\n",
    "\n",
    "print(s.format('1111','2222'))"
   ]
  },
  {
   "cell_type": "markdown",
   "metadata": {},
   "source": [
    "### 플레이서 홀더에는 변수를 지정해도 된다.\n",
    "-  단 format 메서드에 전달하는 문자열도 변수에 담아 전달해야한다"
   ]
  },
  {
   "cell_type": "code",
   "execution_count": 27,
   "metadata": {},
   "outputs": [
    {
     "name": "stdout",
     "output_type": "stream",
     "text": [
      "Coordinate : 126.99, 36.24\n"
     ]
    }
   ],
   "source": [
    "lat = '126.99'\n",
    "s = 'Coordinate : {lat}, {lon}'\n",
    "print(s.format(lat = lat, lon = '36.24'))"
   ]
  },
  {
   "cell_type": "markdown",
   "metadata": {},
   "source": [
    "# 수치값 포매팅 실습"
   ]
  },
  {
   "cell_type": "code",
   "execution_count": 9,
   "metadata": {},
   "outputs": [
    {
     "name": "stdout",
     "output_type": "stream",
     "text": [
      "some digits of pi : 3.141559\n"
     ]
    }
   ],
   "source": [
    "print('some digits of pi : {}'.format(3.141559))"
   ]
  },
  {
   "cell_type": "markdown",
   "metadata": {},
   "source": [
    "### 플레이스 홀더에 :,를 넣으면 쉼표를 넣어 숫자를 표현할 수도 있다."
   ]
  },
  {
   "cell_type": "code",
   "execution_count": 16,
   "metadata": {},
   "outputs": [
    {
     "name": "stdout",
     "output_type": "stream",
     "text": [
      "In 2005, Lu Chao of China recited 67,890 digits of pi\n"
     ]
    }
   ],
   "source": [
    " print('In 2005, Lu Chao of China recited {:,} digits of pi'.format(67890))"
   ]
  },
  {
   "cell_type": "markdown",
   "metadata": {},
   "source": [
    "### 소수를 좀 더 다양한 방법으로 포매팅하기\n",
    "- 플레이스 홀더에 0:.4, 0:.4%를 넣어 7/67890을 포매팅 한 것이다.\n",
    "- {0:.4}와 {0:.4%}에서 0은 format 메서드에서 전달받은 값의 인덱스를 의미한다.\n",
    "- .4는 소수점 이하의 숫자를 4개까지 출력하겠다는 것을 의미한다.\n",
    "- 이때 %를 사용하면 7/67890의 결과값을 백분율로 환산하여 출력한다."
   ]
  },
  {
   "cell_type": "code",
   "execution_count": 20,
   "metadata": {},
   "outputs": [
    {
     "name": "stdout",
     "output_type": "stream",
     "text": [
      "I remember 0.0001031 or 0.0103% of what Lu Chao recited\n"
     ]
    }
   ],
   "source": [
    "print('I remember {0:.4} or {0:.4%} of what Lu Chao recited'.format(7/67890))"
   ]
  },
  {
   "cell_type": "markdown",
   "metadata": {},
   "source": [
    "# % 연산자로 포매팅하기"
   ]
  },
  {
   "cell_type": "code",
   "execution_count": 21,
   "metadata": {},
   "outputs": [
    {
     "name": "stdout",
     "output_type": "stream",
     "text": [
      "I only know 7 digits of pi\n"
     ]
    }
   ],
   "source": [
    "s = 'I only know %d digits of pi' % 7\n",
    "print(s)"
   ]
  },
  {
   "cell_type": "markdown",
   "metadata": {},
   "source": [
    "### 만약 삽입할 값이 문자열이라면 값을 삽입할 위치에 %s라고 입력해야한다.\n",
    "- %와 s 사이에 소괄호를 사용하여 변수를 지정한다."
   ]
  },
  {
   "cell_type": "code",
   "execution_count": 28,
   "metadata": {},
   "outputs": [
    {
     "name": "stdout",
     "output_type": "stream",
     "text": [
      "some digits of e: 2.72\n"
     ]
    }
   ],
   "source": [
    "print('some digits of %(cont)s: %(value).2f' %{'cont' : 'e', 'value' : 2.718})"
   ]
  },
  {
   "cell_type": "markdown",
   "metadata": {},
   "source": [
    "# f-strings로 포매팅 사용하기"
   ]
  },
  {
   "cell_type": "code",
   "execution_count": 29,
   "metadata": {},
   "outputs": [
    {
     "name": "stdout",
     "output_type": "stream",
     "text": [
      "Coordinate : 40.7815, 73.9733\n"
     ]
    }
   ],
   "source": [
    "lat = 40.7815\n",
    "lon = 73.9733\n",
    "\n",
    "s = f'Coordinate : {lat}, {lon}'\n",
    "print(s)"
   ]
  },
  {
   "cell_type": "markdown",
   "metadata": {},
   "source": [
    "# 정규식으로 전화번호 패턴 찾기\n",
    "## ^ : 문자열의 시작을 표현한다. [ ... ] 내부에서 쓰이는 경우라면 뒤의 패턴에 일치하지 않는 것을 선택한다.\n",
    "- ^http : 문자열이 http로 시작하는 경우에만 매치하며, 중간에 나타난 http에는 매치하지 않는다.\n",
    "- ab[^0-9]: “ab” 뒤에 숫자가 아닌 것이 오는 것에만 매치한다. (“abc” – O, “ab1” – X)"
   ]
  },
  {
   "cell_type": "code",
   "execution_count": 47,
   "metadata": {},
   "outputs": [
    {
     "name": "stdout",
     "output_type": "stream",
     "text": [
      "<class 'NoneType'>\n",
      "None\n",
      "************************************************************\n",
      "<class 're.Match'>\n",
      "<re.Match object; span=(0, 10), match='1234567890'>\n"
     ]
    }
   ],
   "source": [
    "import re\n",
    "\n",
    "tel_num = '123'\n",
    "m = re.match(pattern='\\d'*10, string=tel_num)\n",
    "print(type(m))\n",
    "print(m)\n",
    "\n",
    "print('*'*60)\n",
    "\n",
    "tel_num = '1234567890'\n",
    "m = re.match(pattern='\\d'*10, string=tel_num)\n",
    "print(type(m))\n",
    "print(m)"
   ]
  },
  {
   "cell_type": "code",
   "execution_count": 48,
   "metadata": {},
   "outputs": [
    {
     "name": "stdout",
     "output_type": "stream",
     "text": [
      "True\n",
      "match\n"
     ]
    }
   ],
   "source": [
    "print(bool(m))\n",
    "if m:\n",
    "    print('match')\n",
    "else:\n",
    "    print('mismatch')"
   ]
  },
  {
   "cell_type": "markdown",
   "metadata": {},
   "source": [
    "### match 오브젝트에는 찾아낸 패턴의 정보를 확인할 수 있는 다양한 메서드가 있다.\n",
    "- start와 end 메서드는 첫 번째와 마지막 인덱스를 반환하다. (True 일 때만 가능하다.)\n",
    "- span 메서드는 찾은 패턴의 첫 번째와 마지막 인덱스를 한 번에 반환한다.\n",
    "- group 메서드는 찾아낸 패턴을 반환한다."
   ]
  },
  {
   "cell_type": "code",
   "execution_count": 52,
   "metadata": {},
   "outputs": [
    {
     "name": "stdout",
     "output_type": "stream",
     "text": [
      "0\n",
      "10\n",
      "(0, 10)\n",
      "1234567890\n"
     ]
    }
   ],
   "source": [
    "print(m.start())\n",
    "print(m.end())\n",
    "print(m.span())\n",
    "print(m.group())"
   ]
  },
  {
   "cell_type": "markdown",
   "metadata": {},
   "source": [
    "### 전화번호는 1234567890이 아닌 123-456-7890이나 123 456 789이다.\n",
    "- 패턴을 그대로 적용하여 123 456 7890을 검사해본다.\n",
    "- \\d{10}과 \\d\\d\\d\\d\\d\\d\\d\\d\\d\\d은 같은 표현이다."
   ]
  },
  {
   "cell_type": "code",
   "execution_count": 57,
   "metadata": {},
   "outputs": [
    {
     "name": "stdout",
     "output_type": "stream",
     "text": [
      "None\n"
     ]
    }
   ],
   "source": [
    "tel_num_spaces = '123 456 7890'\n",
    "m = re.match(pattern='\\d{10}', string=tel_num_spaces)\n",
    "print(m)"
   ]
  },
  {
   "cell_type": "code",
   "execution_count": 59,
   "metadata": {},
   "outputs": [
    {
     "name": "stdout",
     "output_type": "stream",
     "text": [
      "<re.Match object; span=(0, 12), match='123 456 7890'>\n"
     ]
    }
   ],
   "source": [
    "p = '\\d{3}\\s?\\d{3}\\s?\\d{4}'\n",
    "m = re.match(pattern=p, string=tel_num_spaces)\n",
    "print(m)"
   ]
  },
  {
   "cell_type": "code",
   "execution_count": 61,
   "metadata": {},
   "outputs": [
    {
     "name": "stdout",
     "output_type": "stream",
     "text": [
      "<re.Match object; span=(0, 14), match='(123) 456-7890'>\n"
     ]
    }
   ],
   "source": [
    "tel_num_space_paren = '(123) 456-7890'\n",
    "p = '\\(\\d{3}\\)\\s?\\d{3}\\s?-?\\d{4}'\n",
    "m = re.match(pattern=p, string=tel_num_space_paren)\n",
    "print(m)"
   ]
  },
  {
   "cell_type": "code",
   "execution_count": 62,
   "metadata": {},
   "outputs": [
    {
     "name": "stdout",
     "output_type": "stream",
     "text": [
      "<re.Match object; span=(0, 17), match='+1 (123) 456-7890'>\n"
     ]
    }
   ],
   "source": [
    "tel_num_space_paren = '+1 (123) 456-7890'\n",
    "p = '\\+?\\d{1}\\s?\\(\\d{3}\\)\\s?\\d{3}-\\d{4}'\n",
    "m= re.match(pattern=p, string=tel_num_space_paren)\n",
    "print(m)"
   ]
  },
  {
   "cell_type": "markdown",
   "metadata": {},
   "source": [
    "# compile 메서드로 정규식 메서드 사용하기\n",
    "- 패턴을 반복해서 사용하려면 compile 메서드로 패턴을 컴파일한 다음 변수에 저장하여 사용한다."
   ]
  },
  {
   "cell_type": "code",
   "execution_count": 63,
   "metadata": {},
   "outputs": [
    {
     "name": "stdout",
     "output_type": "stream",
     "text": [
      "1234567890\n"
     ]
    }
   ],
   "source": [
    "p = re.compile('\\d{10}')\n",
    "s = '1234567890'\n",
    "m = p.match(s)\n",
    "print(s)"
   ]
  }
 ],
 "metadata": {
  "kernelspec": {
   "display_name": "Python 3 (ipykernel)",
   "language": "python",
   "name": "python3"
  },
  "language_info": {
   "codemirror_mode": {
    "name": "ipython",
    "version": 3
   },
   "file_extension": ".py",
   "mimetype": "text/x-python",
   "name": "python",
   "nbconvert_exporter": "python",
   "pygments_lexer": "ipython3",
   "version": "3.9.12"
  }
 },
 "nbformat": 4,
 "nbformat_minor": 1
}
