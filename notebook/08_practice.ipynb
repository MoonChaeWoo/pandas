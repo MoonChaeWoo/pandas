{
 "cells": [
  {
   "cell_type": "markdown",
   "metadata": {},
   "source": [
    "# dtypes 속성으로 데이터프레임의 자료형 살펴보기\n",
    "- 카테고리는 문자열로 변환해야 데이터 분석을 더 수월하게 할 수 있다.\n",
    "- 예를 들어 전화번호로 평균을 구하거나 더하지 않기 때문에 오히려 문자열처럼 다루는 경우가 더 많다."
   ]
  },
  {
   "cell_type": "code",
   "execution_count": 1,
   "metadata": {},
   "outputs": [],
   "source": [
    "import pandas as pd\n",
    "import seaborn as sns"
   ]
  },
  {
   "cell_type": "code",
   "execution_count": 4,
   "metadata": {},
   "outputs": [
    {
     "name": "stdout",
     "output_type": "stream",
     "text": [
      "     total_bill   tip     sex smoker   day    time  size\n",
      "0         16.99  1.01  Female     No   Sun  Dinner     2\n",
      "1         10.34  1.66    Male     No   Sun  Dinner     3\n",
      "2         21.01  3.50    Male     No   Sun  Dinner     3\n",
      "3         23.68  3.31    Male     No   Sun  Dinner     2\n",
      "4         24.59  3.61  Female     No   Sun  Dinner     4\n",
      "..          ...   ...     ...    ...   ...     ...   ...\n",
      "239       29.03  5.92    Male     No   Sat  Dinner     3\n",
      "240       27.18  2.00  Female    Yes   Sat  Dinner     2\n",
      "241       22.67  2.00    Male    Yes   Sat  Dinner     2\n",
      "242       17.82  1.75    Male     No   Sat  Dinner     2\n",
      "243       18.78  3.00  Female     No  Thur  Dinner     2\n",
      "\n",
      "[244 rows x 7 columns]\n",
      "Index(['total_bill', 'tip', 'sex', 'smoker', 'day', 'time', 'size'], dtype='object')\n"
     ]
    }
   ],
   "source": [
    "tips = sns.load_dataset(\"tips\")\n",
    "print(tips)\n",
    "print(tips.columns)"
   ]
  },
  {
   "cell_type": "markdown",
   "metadata": {},
   "source": [
    "# 여러 가지 자료형을 문자열로 변환하기\n",
    "- 자료형을 변환하려면 astype 메서드를 사용하면 된다."
   ]
  },
  {
   "cell_type": "code",
   "execution_count": 9,
   "metadata": {},
   "outputs": [
    {
     "name": "stdout",
     "output_type": "stream",
     "text": [
      "<class 'str'>\n"
     ]
    }
   ],
   "source": [
    "tips['sex_str'] = tips['sex'].astype(str)\n",
    "print(type(tips['sex_str'][0]))"
   ]
  },
  {
   "cell_type": "markdown",
   "metadata": {},
   "source": [
    "# dtypes를 사용하면 각 항목의 데이터 타입을 확인할 수 있다."
   ]
  },
  {
   "cell_type": "code",
   "execution_count": 10,
   "metadata": {},
   "outputs": [
    {
     "name": "stdout",
     "output_type": "stream",
     "text": [
      "total_bill     float64\n",
      "tip            float64\n",
      "sex           category\n",
      "smoker        category\n",
      "day           category\n",
      "time          category\n",
      "size             int64\n",
      "sex_str         object\n",
      "dtype: object\n"
     ]
    }
   ],
   "source": [
    "print(tips.dtypes)"
   ]
  },
  {
   "cell_type": "markdown",
   "metadata": {},
   "source": [
    "# 자료형을 변환한 데이터 다시 원래대로 만들기"
   ]
  },
  {
   "cell_type": "code",
   "execution_count": 13,
   "metadata": {},
   "outputs": [
    {
     "name": "stdout",
     "output_type": "stream",
     "text": [
      "total_bill      object\n",
      "tip            float64\n",
      "sex           category\n",
      "smoker        category\n",
      "day           category\n",
      "time          category\n",
      "size             int64\n",
      "sex_str         object\n",
      "dtype: object\n"
     ]
    }
   ],
   "source": [
    "tips['total_bill'] = tips['total_bill'].astype(str)\n",
    "print(tips.dtypes)"
   ]
  },
  {
   "cell_type": "code",
   "execution_count": 15,
   "metadata": {},
   "outputs": [
    {
     "name": "stdout",
     "output_type": "stream",
     "text": [
      "total_bill     float64\n",
      "tip            float64\n",
      "sex           category\n",
      "smoker        category\n",
      "day           category\n",
      "time          category\n",
      "size             int64\n",
      "sex_str         object\n",
      "dtype: object\n"
     ]
    }
   ],
   "source": [
    "tips['total_bill'] = tips['total_bill'].astype(float)\n",
    "print(tips.dtypes)"
   ]
  },
  {
   "cell_type": "markdown",
   "metadata": {},
   "source": [
    "# 잘못 입력한 문자열 처리하기\n",
    "- to_numberic 메서드를 사용한다."
   ]
  },
  {
   "cell_type": "code",
   "execution_count": 43,
   "metadata": {},
   "outputs": [
    {
     "name": "stdout",
     "output_type": "stream",
     "text": [
      "   total_bill   tip     sex smoker  day    time  size sex_str\n",
      "0       16.99  1.01  Female     No  Sun  Dinner     2  Female\n",
      "1       10.34  1.66    Male     No  Sun  Dinner     3    Male\n",
      "2       21.01  3.50    Male     No  Sun  Dinner     3    Male\n",
      "3       23.68  3.31    Male     No  Sun  Dinner     2    Male\n",
      "4       24.59  3.61  Female     No  Sun  Dinner     4  Female\n",
      "5       25.29  4.71    Male     No  Sun  Dinner     4    Male\n",
      "6        8.77  2.00    Male     No  Sun  Dinner     2    Male\n",
      "7       26.88  3.12    Male     No  Sun  Dinner     4    Male\n",
      "8       15.04  1.96    Male     No  Sun  Dinner     2    Male\n",
      "9       14.78  3.23    Male     No  Sun  Dinner     2    Male\n"
     ]
    }
   ],
   "source": [
    "tip_sub_miss = tips.head(10)\n",
    "print(tip_sub_miss)"
   ]
  },
  {
   "cell_type": "code",
   "execution_count": 44,
   "metadata": {},
   "outputs": [
    {
     "name": "stdout",
     "output_type": "stream",
     "text": [
      "  total_bill   tip     sex smoker  day    time  size sex_str\n",
      "0      16.99  1.01  Female     No  Sun  Dinner     2  Female\n",
      "1    missing  1.66    Male     No  Sun  Dinner     3    Male\n",
      "2      21.01  3.50    Male     No  Sun  Dinner     3    Male\n",
      "3    missing  3.31    Male     No  Sun  Dinner     2    Male\n",
      "4      24.59  3.61  Female     No  Sun  Dinner     4  Female\n",
      "5    missing  4.71    Male     No  Sun  Dinner     4    Male\n",
      "6       8.77  2.00    Male     No  Sun  Dinner     2    Male\n",
      "7    missing  3.12    Male     No  Sun  Dinner     4    Male\n",
      "8      15.04  1.96    Male     No  Sun  Dinner     2    Male\n",
      "9      14.78  3.23    Male     No  Sun  Dinner     2    Male\n"
     ]
    },
    {
     "name": "stderr",
     "output_type": "stream",
     "text": [
      "C:\\Users\\admin\\AppData\\Local\\Temp\\ipykernel_35348\\628007776.py:1: SettingWithCopyWarning: \n",
      "A value is trying to be set on a copy of a slice from a DataFrame.\n",
      "Try using .loc[row_indexer,col_indexer] = value instead\n",
      "\n",
      "See the caveats in the documentation: https://pandas.pydata.org/pandas-docs/stable/user_guide/indexing.html#returning-a-view-versus-a-copy\n",
      "  tip_sub_miss.loc[[1,3,5,7], 'total_bill'] = 'missing'\n"
     ]
    }
   ],
   "source": [
    "tip_sub_miss.loc[[1,3,5,7], 'total_bill'] = 'missing'\n",
    "print(tip_sub_miss)"
   ]
  },
  {
   "cell_type": "code",
   "execution_count": 45,
   "metadata": {},
   "outputs": [
    {
     "name": "stdout",
     "output_type": "stream",
     "text": [
      "total_bill      object\n",
      "tip            float64\n",
      "sex           category\n",
      "smoker        category\n",
      "day           category\n",
      "time          category\n",
      "size             int64\n",
      "sex_str         object\n",
      "dtype: object\n"
     ]
    }
   ],
   "source": [
    "print(tip_sub_miss.dtypes)"
   ]
  },
  {
   "cell_type": "markdown",
   "metadata": {},
   "source": [
    "# to_numeric\n",
    "- to_numberic 메서드 errors 인자에 raise, coerce, ignore를 지정하여 오류를 어느정도 제어할 수 있다.\n",
    "\n",
    "# errors 인자에 설정할 수 있는 값\n",
    "# raise\n",
    "-  숫자를 변환살 수 없는 값이 있으면 오류 발생\n",
    "\n",
    "# coerce\n",
    "- 숫자로 변활할 수 없는 값을 누락값으로 지정\n",
    "\n",
    "# ignore\n",
    "- 아무 작업도 하지 않음"
   ]
  },
  {
   "cell_type": "markdown",
   "metadata": {},
   "source": [
    "\n",
    "# ignore\n",
    "- 아무 작업도 하지 않음"
   ]
  },
  {
   "cell_type": "code",
   "execution_count": 46,
   "metadata": {
    "scrolled": true
   },
   "outputs": [
    {
     "name": "stdout",
     "output_type": "stream",
     "text": [
      "total_bill      object\n",
      "tip            float64\n",
      "sex           category\n",
      "smoker        category\n",
      "day           category\n",
      "time          category\n",
      "size             int64\n",
      "sex_str         object\n",
      "dtype: object\n"
     ]
    },
    {
     "name": "stderr",
     "output_type": "stream",
     "text": [
      "C:\\Users\\admin\\AppData\\Local\\Temp\\ipykernel_35348\\3710619896.py:1: SettingWithCopyWarning: \n",
      "A value is trying to be set on a copy of a slice from a DataFrame.\n",
      "Try using .loc[row_indexer,col_indexer] = value instead\n",
      "\n",
      "See the caveats in the documentation: https://pandas.pydata.org/pandas-docs/stable/user_guide/indexing.html#returning-a-view-versus-a-copy\n",
      "  tip_sub_miss['total_bill'] = pd.to_numeric(tip_sub_miss['total_bill'], errors='ignore')\n"
     ]
    }
   ],
   "source": [
    "tip_sub_miss['total_bill'] = pd.to_numeric(tip_sub_miss['total_bill'], errors='ignore')\n",
    "print(tip_sub_miss.dtypes)"
   ]
  },
  {
   "cell_type": "markdown",
   "metadata": {},
   "source": [
    "# coerce\n",
    "- 숫자로 변활할 수 없는 값을 누락값으로 지정\n",
    "- 자료형은 실수로 바뀐다."
   ]
  },
  {
   "cell_type": "code",
   "execution_count": 49,
   "metadata": {},
   "outputs": [
    {
     "name": "stdout",
     "output_type": "stream",
     "text": [
      "total_bill     float64\n",
      "tip            float64\n",
      "sex           category\n",
      "smoker        category\n",
      "day           category\n",
      "time          category\n",
      "size             int64\n",
      "sex_str         object\n",
      "dtype: object\n",
      "   total_bill   tip     sex smoker  day    time  size sex_str\n",
      "0       16.99  1.01  Female     No  Sun  Dinner     2  Female\n",
      "1         NaN  1.66    Male     No  Sun  Dinner     3    Male\n",
      "2       21.01  3.50    Male     No  Sun  Dinner     3    Male\n",
      "3         NaN  3.31    Male     No  Sun  Dinner     2    Male\n",
      "4       24.59  3.61  Female     No  Sun  Dinner     4  Female\n",
      "5         NaN  4.71    Male     No  Sun  Dinner     4    Male\n",
      "6        8.77  2.00    Male     No  Sun  Dinner     2    Male\n",
      "7         NaN  3.12    Male     No  Sun  Dinner     4    Male\n",
      "8       15.04  1.96    Male     No  Sun  Dinner     2    Male\n",
      "9       14.78  3.23    Male     No  Sun  Dinner     2    Male\n"
     ]
    },
    {
     "name": "stderr",
     "output_type": "stream",
     "text": [
      "C:\\Users\\admin\\AppData\\Local\\Temp\\ipykernel_35348\\2267446293.py:1: SettingWithCopyWarning: \n",
      "A value is trying to be set on a copy of a slice from a DataFrame.\n",
      "Try using .loc[row_indexer,col_indexer] = value instead\n",
      "\n",
      "See the caveats in the documentation: https://pandas.pydata.org/pandas-docs/stable/user_guide/indexing.html#returning-a-view-versus-a-copy\n",
      "  tip_sub_miss['total_bill'] = pd.to_numeric(tip_sub_miss['total_bill'], errors='coerce')\n"
     ]
    }
   ],
   "source": [
    "tip_sub_miss['total_bill'] = pd.to_numeric(tip_sub_miss['total_bill'], errors='coerce')\n",
    "print(tip_sub_miss.dtypes)\n",
    "print(tip_sub_miss)"
   ]
  },
  {
   "cell_type": "markdown",
   "metadata": {},
   "source": [
    "# downcast\n",
    "- 정수, 실수와 같은 자료형을 더 작은 형태로 만들 때 사용하는데 이를 다운캐스트라고 한다.\n",
    "- downcast인자에는 integer, signed, unsigned, float 등의 값을 사용할 수 있다.\n",
    "- float64를loat32로 downcast를 하고 메모리 공간을 1/2로 줄인다.\n",
    "- 만약 저장하는 실수의 예상 범위가 크지 않다면 다운 캐스트를 하는게 좋다."
   ]
  },
  {
   "cell_type": "code",
   "execution_count": 50,
   "metadata": {},
   "outputs": [
    {
     "name": "stdout",
     "output_type": "stream",
     "text": [
      "   total_bill   tip     sex smoker  day    time  size sex_str\n",
      "0       16.99  1.01  Female     No  Sun  Dinner     2  Female\n",
      "1         NaN  1.66    Male     No  Sun  Dinner     3    Male\n",
      "2       21.01  3.50    Male     No  Sun  Dinner     3    Male\n",
      "3         NaN  3.31    Male     No  Sun  Dinner     2    Male\n",
      "4       24.59  3.61  Female     No  Sun  Dinner     4  Female\n",
      "5         NaN  4.71    Male     No  Sun  Dinner     4    Male\n",
      "6        8.77  2.00    Male     No  Sun  Dinner     2    Male\n",
      "7         NaN  3.12    Male     No  Sun  Dinner     4    Male\n",
      "8       15.04  1.96    Male     No  Sun  Dinner     2    Male\n",
      "9       14.78  3.23    Male     No  Sun  Dinner     2    Male\n"
     ]
    },
    {
     "name": "stderr",
     "output_type": "stream",
     "text": [
      "C:\\Users\\admin\\AppData\\Local\\Temp\\ipykernel_35348\\2681917580.py:1: SettingWithCopyWarning: \n",
      "A value is trying to be set on a copy of a slice from a DataFrame.\n",
      "Try using .loc[row_indexer,col_indexer] = value instead\n",
      "\n",
      "See the caveats in the documentation: https://pandas.pydata.org/pandas-docs/stable/user_guide/indexing.html#returning-a-view-versus-a-copy\n",
      "  tip_sub_miss['total_bill'] = pd.to_numeric(tip_sub_miss['total_bill'], errors='coerce', downcast = 'float')\n"
     ]
    }
   ],
   "source": [
    "tip_sub_miss['total_bill'] = pd.to_numeric(tip_sub_miss['total_bill'], errors='coerce', downcast = 'float')\n",
    "print(tip_sub_miss)"
   ]
  },
  {
   "cell_type": "code",
   "execution_count": 53,
   "metadata": {},
   "outputs": [
    {
     "name": "stdout",
     "output_type": "stream",
     "text": [
      "total_bill     float32\n",
      "tip            float64\n",
      "sex           category\n",
      "smoker        category\n",
      "day           category\n",
      "time          category\n",
      "size             int64\n",
      "sex_str         object\n",
      "dtype: object\n"
     ]
    }
   ],
   "source": [
    "print(tip_sub_miss.dtypes)"
   ]
  },
  {
   "cell_type": "markdown",
   "metadata": {},
   "source": [
    "# 문자열을 카테고리로 변환하기\n",
    "- 카테고리 자료형의 장점과 특징은 용량과 속도 면에서 매우 효율적이다.\n",
    "- 주로 동일한 문자열이 반복되어 데이터를 구성하는 경우에 사용한다."
   ]
  },
  {
   "cell_type": "code",
   "execution_count": 56,
   "metadata": {},
   "outputs": [
    {
     "name": "stdout",
     "output_type": "stream",
     "text": [
      "<class 'pandas.core.frame.DataFrame'>\n",
      "RangeIndex: 244 entries, 0 to 243\n",
      "Data columns (total 8 columns):\n",
      " #   Column      Non-Null Count  Dtype   \n",
      "---  ------      --------------  -----   \n",
      " 0   total_bill  244 non-null    float64 \n",
      " 1   tip         244 non-null    float64 \n",
      " 2   sex         244 non-null    object  \n",
      " 3   smoker      244 non-null    category\n",
      " 4   day         244 non-null    category\n",
      " 5   time        244 non-null    category\n",
      " 6   size        244 non-null    int64   \n",
      " 7   sex_str     244 non-null    object  \n",
      "dtypes: category(3), float64(2), int64(1), object(2)\n",
      "memory usage: 10.8+ KB\n",
      "None\n"
     ]
    }
   ],
   "source": [
    "tips['sex'] = tips['sex'].astype('str')\n",
    "print(tips.info())"
   ]
  },
  {
   "cell_type": "code",
   "execution_count": 57,
   "metadata": {},
   "outputs": [
    {
     "name": "stdout",
     "output_type": "stream",
     "text": [
      "<class 'pandas.core.frame.DataFrame'>\n",
      "RangeIndex: 244 entries, 0 to 243\n",
      "Data columns (total 8 columns):\n",
      " #   Column      Non-Null Count  Dtype   \n",
      "---  ------      --------------  -----   \n",
      " 0   total_bill  244 non-null    float64 \n",
      " 1   tip         244 non-null    float64 \n",
      " 2   sex         244 non-null    category\n",
      " 3   smoker      244 non-null    category\n",
      " 4   day         244 non-null    category\n",
      " 5   time        244 non-null    category\n",
      " 6   size        244 non-null    int64   \n",
      " 7   sex_str     244 non-null    object  \n",
      "dtypes: category(4), float64(2), int64(1), object(1)\n",
      "memory usage: 9.3+ KB\n",
      "None\n"
     ]
    }
   ],
   "source": [
    "tips['sex'] = tips['sex'].astype('category')\n",
    "print(tips.info())"
   ]
  },
  {
   "cell_type": "markdown",
   "metadata": {},
   "source": [
    "### str -> category 형변환을 했을 때 info()로 확인을 해보면 memory가 줄어드는걸 알 수 있다."
   ]
  }
 ],
 "metadata": {
  "kernelspec": {
   "display_name": "Python 3 (ipykernel)",
   "language": "python",
   "name": "python3"
  },
  "language_info": {
   "codemirror_mode": {
    "name": "ipython",
    "version": 3
   },
   "file_extension": ".py",
   "mimetype": "text/x-python",
   "name": "python",
   "nbconvert_exporter": "python",
   "pygments_lexer": "ipython3",
   "version": "3.9.12"
  }
 },
 "nbformat": 4,
 "nbformat_minor": 1
}
